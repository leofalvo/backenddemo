{
 "cells": [
  {
   "cell_type": "code",
   "execution_count": 9,
   "metadata": {},
   "outputs": [
    {
     "name": "stdout",
     "output_type": "stream",
     "text": [
      "9.53125\n"
     ]
    }
   ],
   "source": [
    "from FlagEmbedding import FlagReranker\n",
    "reranker = FlagReranker('BAAI/bge-reranker-large', use_fp16=True) # Setting use_fp16 to True speeds up computation with a slight performance degradation\n",
    "\n",
    "score = reranker.compute_score(['Hi man, how are you', 'Hi man, how are you'])\n",
    "print(score)\n",
    "\n"
   ]
  },
  {
   "cell_type": "code",
   "execution_count": 12,
   "metadata": {},
   "outputs": [
    {
     "name": "stdout",
     "output_type": "stream",
     "text": [
      "Fetching Tweets\n"
     ]
    },
    {
     "ename": "RuntimeError",
     "evalue": "This event loop is already running",
     "output_type": "error",
     "traceback": [
      "\u001b[0;31m---------------------------------------------------------------------------\u001b[0m",
      "\u001b[0;31mRuntimeError\u001b[0m                              Traceback (most recent call last)",
      "Cell \u001b[0;32mIn[12], line 46\u001b[0m\n\u001b[1;32m     42\u001b[0m \ttwint\u001b[38;5;241m.\u001b[39mrun\u001b[38;5;241m.\u001b[39mSearch(c)\n\u001b[1;32m     44\u001b[0m \u001b[38;5;66;03m# run once when you start the program\u001b[39;00m\n\u001b[0;32m---> 46\u001b[0m \u001b[43mjobone\u001b[49m\u001b[43m(\u001b[49m\u001b[43m)\u001b[49m\n\u001b[1;32m     47\u001b[0m jobtwo()\n\u001b[1;32m     49\u001b[0m \u001b[38;5;66;03m# run every minute(s), hour, day at, day of the week, day of the week and time. Use \"#\" to block out which ones you don't want to use.  Remove it to active. Also, replace \"jobone\" and \"jobtwo\" with your new function names (if applicable)\u001b[39;00m\n\u001b[1;32m     50\u001b[0m \n\u001b[1;32m     51\u001b[0m \u001b[38;5;66;03m# schedule.every(1).minutes.do(jobone)\u001b[39;00m\n",
      "Cell \u001b[0;32mIn[12], line 23\u001b[0m, in \u001b[0;36mjobone\u001b[0;34m()\u001b[0m\n\u001b[1;32m     21\u001b[0m \u001b[38;5;66;03m# change the name of the csv file\u001b[39;00m\n\u001b[1;32m     22\u001b[0m c\u001b[38;5;241m.\u001b[39mOutput \u001b[38;5;241m=\u001b[39m \u001b[38;5;124m\"\u001b[39m\u001b[38;5;124mfilename.csv\u001b[39m\u001b[38;5;124m\"\u001b[39m\n\u001b[0;32m---> 23\u001b[0m \u001b[43mtwint\u001b[49m\u001b[38;5;241;43m.\u001b[39;49m\u001b[43mrun\u001b[49m\u001b[38;5;241;43m.\u001b[39;49m\u001b[43mSearch\u001b[49m\u001b[43m(\u001b[49m\u001b[43mc\u001b[49m\u001b[43m)\u001b[49m\n",
      "File \u001b[0;32m~/.pyenv/versions/3.9.18/lib/python3.9/site-packages/twint/run.py:327\u001b[0m, in \u001b[0;36mSearch\u001b[0;34m(config, callback)\u001b[0m\n\u001b[1;32m    325\u001b[0m config\u001b[38;5;241m.\u001b[39mProfile \u001b[38;5;241m=\u001b[39m \u001b[38;5;28;01mFalse\u001b[39;00m\n\u001b[1;32m    326\u001b[0m config\u001b[38;5;241m.\u001b[39mProfile_full \u001b[38;5;241m=\u001b[39m \u001b[38;5;28;01mFalse\u001b[39;00m\n\u001b[0;32m--> 327\u001b[0m \u001b[43mrun\u001b[49m\u001b[43m(\u001b[49m\u001b[43mconfig\u001b[49m\u001b[43m,\u001b[49m\u001b[43m \u001b[49m\u001b[43mcallback\u001b[49m\u001b[43m)\u001b[49m\n\u001b[1;32m    328\u001b[0m \u001b[38;5;28;01mif\u001b[39;00m config\u001b[38;5;241m.\u001b[39mPandas_au:\n\u001b[1;32m    329\u001b[0m     storage\u001b[38;5;241m.\u001b[39mpanda\u001b[38;5;241m.\u001b[39m_autoget(\u001b[38;5;124m\"\u001b[39m\u001b[38;5;124mtweet\u001b[39m\u001b[38;5;124m\"\u001b[39m)\n",
      "File \u001b[0;32m~/.pyenv/versions/3.9.18/lib/python3.9/site-packages/twint/run.py:226\u001b[0m, in \u001b[0;36mrun\u001b[0;34m(config, callback)\u001b[0m\n\u001b[1;32m    223\u001b[0m     logme\u001b[38;5;241m.\u001b[39mexception(\u001b[38;5;18m__name__\u001b[39m\u001b[38;5;241m+\u001b[39m\u001b[38;5;124m'\u001b[39m\u001b[38;5;124m:Lookup:Unexpected exception occured while attempting to get or create a new event loop.\u001b[39m\u001b[38;5;124m'\u001b[39m)\n\u001b[1;32m    224\u001b[0m     \u001b[38;5;28;01mraise\u001b[39;00m\n\u001b[0;32m--> 226\u001b[0m \u001b[43mget_event_loop\u001b[49m\u001b[43m(\u001b[49m\u001b[43m)\u001b[49m\u001b[38;5;241;43m.\u001b[39;49m\u001b[43mrun_until_complete\u001b[49m\u001b[43m(\u001b[49m\u001b[43mTwint\u001b[49m\u001b[43m(\u001b[49m\u001b[43mconfig\u001b[49m\u001b[43m)\u001b[49m\u001b[38;5;241;43m.\u001b[39;49m\u001b[43mmain\u001b[49m\u001b[43m(\u001b[49m\u001b[43mcallback\u001b[49m\u001b[43m)\u001b[49m\u001b[43m)\u001b[49m\n",
      "File \u001b[0;32m~/.pyenv/versions/3.9.18/lib/python3.9/asyncio/base_events.py:623\u001b[0m, in \u001b[0;36mBaseEventLoop.run_until_complete\u001b[0;34m(self, future)\u001b[0m\n\u001b[1;32m    612\u001b[0m \u001b[38;5;250m\u001b[39m\u001b[38;5;124;03m\"\"\"Run until the Future is done.\u001b[39;00m\n\u001b[1;32m    613\u001b[0m \n\u001b[1;32m    614\u001b[0m \u001b[38;5;124;03mIf the argument is a coroutine, it is wrapped in a Task.\u001b[39;00m\n\u001b[0;32m   (...)\u001b[0m\n\u001b[1;32m    620\u001b[0m \u001b[38;5;124;03mReturn the Future's result, or raise its exception.\u001b[39;00m\n\u001b[1;32m    621\u001b[0m \u001b[38;5;124;03m\"\"\"\u001b[39;00m\n\u001b[1;32m    622\u001b[0m \u001b[38;5;28mself\u001b[39m\u001b[38;5;241m.\u001b[39m_check_closed()\n\u001b[0;32m--> 623\u001b[0m \u001b[38;5;28;43mself\u001b[39;49m\u001b[38;5;241;43m.\u001b[39;49m\u001b[43m_check_running\u001b[49m\u001b[43m(\u001b[49m\u001b[43m)\u001b[49m\n\u001b[1;32m    625\u001b[0m new_task \u001b[38;5;241m=\u001b[39m \u001b[38;5;129;01mnot\u001b[39;00m futures\u001b[38;5;241m.\u001b[39misfuture(future)\n\u001b[1;32m    626\u001b[0m future \u001b[38;5;241m=\u001b[39m tasks\u001b[38;5;241m.\u001b[39mensure_future(future, loop\u001b[38;5;241m=\u001b[39m\u001b[38;5;28mself\u001b[39m)\n",
      "File \u001b[0;32m~/.pyenv/versions/3.9.18/lib/python3.9/asyncio/base_events.py:583\u001b[0m, in \u001b[0;36mBaseEventLoop._check_running\u001b[0;34m(self)\u001b[0m\n\u001b[1;32m    581\u001b[0m \u001b[38;5;28;01mdef\u001b[39;00m \u001b[38;5;21m_check_running\u001b[39m(\u001b[38;5;28mself\u001b[39m):\n\u001b[1;32m    582\u001b[0m     \u001b[38;5;28;01mif\u001b[39;00m \u001b[38;5;28mself\u001b[39m\u001b[38;5;241m.\u001b[39mis_running():\n\u001b[0;32m--> 583\u001b[0m         \u001b[38;5;28;01mraise\u001b[39;00m \u001b[38;5;167;01mRuntimeError\u001b[39;00m(\u001b[38;5;124m'\u001b[39m\u001b[38;5;124mThis event loop is already running\u001b[39m\u001b[38;5;124m'\u001b[39m)\n\u001b[1;32m    584\u001b[0m     \u001b[38;5;28;01mif\u001b[39;00m events\u001b[38;5;241m.\u001b[39m_get_running_loop() \u001b[38;5;129;01mis\u001b[39;00m \u001b[38;5;129;01mnot\u001b[39;00m \u001b[38;5;28;01mNone\u001b[39;00m:\n\u001b[1;32m    585\u001b[0m         \u001b[38;5;28;01mraise\u001b[39;00m \u001b[38;5;167;01mRuntimeError\u001b[39;00m(\n\u001b[1;32m    586\u001b[0m             \u001b[38;5;124m'\u001b[39m\u001b[38;5;124mCannot run the event loop while another loop is running\u001b[39m\u001b[38;5;124m'\u001b[39m)\n",
      "\u001b[0;31mRuntimeError\u001b[0m: This event loop is already running"
     ]
    }
   ],
   "source": [
    "import twint\n",
    "import schedule\n",
    "import time\n",
    "\n",
    "# you can change the name of each \"job\" after \"def\" if you'd like.\n",
    "def jobone():\n",
    "\tprint (\"Fetching Tweets\")\n",
    "\tc = twint.Config()\n",
    "\t# choose username (optional)\n",
    "\tc.Username = \"insert username here\"\n",
    "\t# choose search term (optional)\n",
    "\tc.Search = \"insert search term here\"\n",
    "\t# choose beginning time (narrow results)\n",
    "\tc.Since = \"2018-01-01\"\n",
    "\t# set limit on total tweets\n",
    "\tc.Limit = 1000\n",
    "\t# no idea, but makes the csv format properly\n",
    "\tc.Store_csv = True\n",
    "\t# format of the csv\n",
    "\tc.Custom = [\"date\", \"time\", \"username\", \"tweet\", \"link\", \"likes\", \"retweets\", \"replies\", \"mentions\", \"hashtags\"]\n",
    "\t# change the name of the csv file\n",
    "\tc.Output = \"filename.csv\"\n",
    "\ttwint.run.Search(c)\n",
    "\n",
    "def jobtwo():\n",
    "\tprint (\"Fetching Tweets\")\n",
    "\tc = twint.Config()\n",
    "\t# choose username (optional)\n",
    "\tc.Username = \"insert username here\"\n",
    "\t# choose search term (optional)\n",
    "\tc.Search = \"insert search term here\"\n",
    "\t# choose beginning time (narrow results)\n",
    "\tc.Since = \"2018-01-01\"\n",
    "\t# set limit on total tweets\n",
    "\tc.Limit = 1000\n",
    "\t# no idea, but makes the csv format properly\n",
    "\tc.Store_csv = True\n",
    "\t# format of the csv\n",
    "\tc.Custom = [\"date\", \"time\", \"username\", \"tweet\", \"link\", \"likes\", \"retweets\", \"replies\", \"mentions\", \"hashtags\"]\n",
    "\t# change the name of the csv file\n",
    "\tc.Output = \"filename2.csv\"\n",
    "\ttwint.run.Search(c)\n",
    "\n",
    "# run once when you start the program\n",
    "\n",
    "jobone()\n",
    "jobtwo()\n",
    "\n",
    "# run every minute(s), hour, day at, day of the week, day of the week and time. Use \"#\" to block out which ones you don't want to use.  Remove it to active. Also, replace \"jobone\" and \"jobtwo\" with your new function names (if applicable)\n",
    "\n",
    "# schedule.every(1).minutes.do(jobone)\n",
    "schedule.every().hour.do(jobone)\n",
    "# schedule.every().day.at(\"10:30\").do(jobone)\n",
    "# schedule.every().monday.do(jobone)\n",
    "# schedule.every().wednesday.at(\"13:15\").do(jobone)\n",
    "\n",
    "# schedule.every(1).minutes.do(jobtwo)\n",
    "schedule.every().hour.do(jobtwo)\n",
    "# schedule.every().day.at(\"10:30\").do(jobtwo)\n",
    "# schedule.every().monday.do(jobtwo)\n",
    "# schedule.every().wednesday.at(\"13:15\").do(jobtwo)\n",
    "\n",
    "while True:\n",
    "  schedule.run_pending()\n",
    "  time.sleep(1)"
   ]
  }
 ],
 "metadata": {
  "kernelspec": {
   "display_name": "Python 3",
   "language": "python",
   "name": "python3"
  },
  "language_info": {
   "codemirror_mode": {
    "name": "ipython",
    "version": 3
   },
   "file_extension": ".py",
   "mimetype": "text/x-python",
   "name": "python",
   "nbconvert_exporter": "python",
   "pygments_lexer": "ipython3",
   "version": "3.9.18"
  }
 },
 "nbformat": 4,
 "nbformat_minor": 2
}
