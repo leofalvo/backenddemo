{
 "cells": [
  {
   "cell_type": "markdown",
   "metadata": {},
   "source": [
    "# Lets open our pdf and write each page as an element in a list"
   ]
  },
  {
   "cell_type": "code",
   "execution_count": 24,
   "metadata": {},
   "outputs": [
    {
     "name": "stderr",
     "output_type": "stream",
     "text": [
      "[nltk_data] Downloading package punkt to /Users/leofalvo/nltk_data...\n",
      "[nltk_data]   Package punkt is already up-to-date!\n"
     ]
    }
   ],
   "source": [
    "import PyPDF2\n",
    "import math\n",
    "import nltk\n",
    "nltk.download('punkt')\n",
    "from FlagEmbedding import FlagReranker\n",
    "\n",
    "filename = '2210.15723.pdf'\n",
    "text = ''\n",
    "\n",
    "reader = PdfReader(filename)\n",
    "for page in reader.pages:\n",
    "    text += page.extract_text()"
   ]
  },
  {
   "cell_type": "code",
   "execution_count": 26,
   "metadata": {},
   "outputs": [
    {
     "name": "stdout",
     "output_type": "stream",
     "text": [
      "3.1 Dataset\n",
      "The first set of users able to sign up to participate in the pilot of\n",
      "Birdwatch were Twitter users based in the United States who were\n",
      "able to provide a verified phone number from a trusted U.S.-based\n",
      "phone carrier, had 2-factor authentication enabled, and had not had\n",
      "a Twitter rule violation in the past year.\n"
     ]
    }
   ],
   "source": [
    "sentences = sent_tokenize(text)\n",
    "least = [-32, '']\n",
    "query = 'What country was birdwatch first rolled out in'\n",
    "reranker = FlagReranker('BAAI/bge-reranker-large', use_fp16=True)\n",
    "\n",
    "\n",
    "for sentence in sent_tokenize(text):\n",
    "    score = reranker.compute_score([query,sentence])\n",
    "    if (score > least[0]):\n",
    "        least[0] = score\n",
    "        least[1] = sentence\n",
    "\n",
    "print(least[1])"
   ]
  }
 ],
 "metadata": {
  "kernelspec": {
   "display_name": "Python 3",
   "language": "python",
   "name": "python3"
  },
  "language_info": {
   "codemirror_mode": {
    "name": "ipython",
    "version": 3
   },
   "file_extension": ".py",
   "mimetype": "text/x-python",
   "name": "python",
   "nbconvert_exporter": "python",
   "pygments_lexer": "ipython3",
   "version": "3.9.18"
  }
 },
 "nbformat": 4,
 "nbformat_minor": 2
}
