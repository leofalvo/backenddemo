{
 "cells": [
  {
   "cell_type": "code",
   "execution_count": 5,
   "metadata": {},
   "outputs": [
    {
     "name": "stderr",
     "output_type": "stream",
     "text": [
      "[nltk_data] Downloading package punkt to /Users/leofalvo/nltk_data...\n",
      "[nltk_data]   Unzipping tokenizers/punkt.zip.\n"
     ]
    },
    {
     "data": {
      "text/plain": [
       "True"
      ]
     },
     "execution_count": 5,
     "metadata": {},
     "output_type": "execute_result"
    }
   ],
   "source": [
    "import PyPDF2\n",
    "import math\n",
    "import nltk\n",
    "from scipy import spatial\n",
    "from FlagEmbedding import FlagReranker\n",
    "from sentence_transformers import SentenceTransformer, util\n",
    "import numpy as np\n",
    "model = SentenceTransformer('sentence-transformers/all-MiniLM-L6-v2')\n",
    "nltk.download(\"punkt\")"
   ]
  },
  {
   "cell_type": "code",
   "execution_count": 7,
   "metadata": {},
   "outputs": [],
   "source": [
    "filename = '2210.15723.pdf'\n",
    "reader = PyPDF2.PdfReader(filename)\n",
    "text = ''\n",
    "for page in reader.pages:\n",
    "    text += page.extract_text()\n",
    "sentences = nltk.sent_tokenize(text)\n",
    "\n",
    "vals = {}\n",
    "for sentence in sentences:\n",
    "    encoded_sentence = model.encode(sentence)\n",
    "    # Convert the numpy array to a tuple\n",
    "    tuple_key = tuple(np.round(encoded_sentence, decimals=5))  # rounding to reduce precision\n",
    "    vals[tuple_key] = sentence"
   ]
  },
  {
   "cell_type": "code",
   "execution_count": 36,
   "metadata": {},
   "outputs": [
    {
     "name": "stdout",
     "output_type": "stream",
     "text": [
      "By construction, the algorithm needs some cross-partisan\n",
      "agreement to function.\n"
     ]
    }
   ],
   "source": [
    "query = model.encode('bridge algorithms syntax')\n",
    "\n",
    "comparer = -10000\n",
    "retstring = ''\n",
    "for val in vals:\n",
    "    similarity = 1 - spatial.distance.cosine(query, val)\n",
    "    if similarity > comparer:\n",
    "        comparer = similarity\n",
    "        retstring = vals[val]\n",
    "print(retstring)"
   ]
  }
 ],
 "metadata": {
  "kernelspec": {
   "display_name": "Python 3",
   "language": "python",
   "name": "python3"
  },
  "language_info": {
   "codemirror_mode": {
    "name": "ipython",
    "version": 3
   },
   "file_extension": ".py",
   "mimetype": "text/x-python",
   "name": "python",
   "nbconvert_exporter": "python",
   "pygments_lexer": "ipython3",
   "version": "3.9.18"
  }
 },
 "nbformat": 4,
 "nbformat_minor": 2
}
